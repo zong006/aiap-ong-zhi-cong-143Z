{
 "cells": [
  {
   "cell_type": "code",
   "execution_count": 1,
   "id": "cbbe4565",
   "metadata": {},
   "outputs": [],
   "source": [
    "import sqlite3\n",
    "import numpy as np\n",
    "import pandas as pd\n",
    "import matplotlib.pylab as plt\n",
    "\n",
    "cr_post_table = sqlite3.connect('cruise_post.db')\n",
    "cr_pre_table = sqlite3.connect('cruise_pre.db')"
   ]
  },
  {
   "cell_type": "code",
   "execution_count": 2,
   "id": "85d0f6dc",
   "metadata": {},
   "outputs": [],
   "source": [
    "query = \"SELECT * FROM cruise_post\"  \n",
    "dfpost = pd.read_sql_query(query, cr_post_table)\n",
    "\n",
    "query = \"SELECT * FROM cruise_pre\"\n",
    "dfpre = pd.read_sql_query(query, cr_pre_table)"
   ]
  },
  {
   "cell_type": "code",
   "execution_count": 3,
   "id": "cd4954fd",
   "metadata": {},
   "outputs": [
    {
     "data": {
      "text/html": [
       "<div>\n",
       "<style scoped>\n",
       "    .dataframe tbody tr th:only-of-type {\n",
       "        vertical-align: middle;\n",
       "    }\n",
       "\n",
       "    .dataframe tbody tr th {\n",
       "        vertical-align: top;\n",
       "    }\n",
       "\n",
       "    .dataframe thead th {\n",
       "        text-align: right;\n",
       "    }\n",
       "</style>\n",
       "<table border=\"1\" class=\"dataframe\">\n",
       "  <thead>\n",
       "    <tr style=\"text-align: right;\">\n",
       "      <th></th>\n",
       "      <th>index</th>\n",
       "      <th>Gender</th>\n",
       "      <th>Date of Birth</th>\n",
       "      <th>Source of Traffic</th>\n",
       "      <th>Onboard Wifi Service</th>\n",
       "      <th>Embarkation/Disembarkation time convenient</th>\n",
       "      <th>Ease of Online booking</th>\n",
       "      <th>Gate location</th>\n",
       "      <th>Logging</th>\n",
       "      <th>Onboard Dining Service</th>\n",
       "      <th>Online Check-in</th>\n",
       "      <th>Cabin Comfort</th>\n",
       "      <th>Onboard Entertainment</th>\n",
       "      <th>Cabin service</th>\n",
       "      <th>Baggage handling</th>\n",
       "      <th>Port Check-in Service</th>\n",
       "      <th>Onboard Service</th>\n",
       "      <th>Cleanliness</th>\n",
       "      <th>Ext_Intcode</th>\n",
       "    </tr>\n",
       "  </thead>\n",
       "  <tbody>\n",
       "    <tr>\n",
       "      <th>0</th>\n",
       "      <td>0</td>\n",
       "      <td>None</td>\n",
       "      <td>05/10/1973</td>\n",
       "      <td>Direct - Company Website</td>\n",
       "      <td>A little important</td>\n",
       "      <td>3.0</td>\n",
       "      <td>5.0</td>\n",
       "      <td>3.0</td>\n",
       "      <td>01/01/2023 0:00</td>\n",
       "      <td>Very important</td>\n",
       "      <td>2.0</td>\n",
       "      <td>2.0</td>\n",
       "      <td>A little important</td>\n",
       "      <td>2.0</td>\n",
       "      <td>2.0</td>\n",
       "      <td>4.0</td>\n",
       "      <td>2.0</td>\n",
       "      <td>3.0</td>\n",
       "      <td>LB446RWOOZI</td>\n",
       "    </tr>\n",
       "    <tr>\n",
       "      <th>1</th>\n",
       "      <td>1</td>\n",
       "      <td>Female</td>\n",
       "      <td>None</td>\n",
       "      <td>Indirect - Social Media</td>\n",
       "      <td>Not at all important</td>\n",
       "      <td>4.0</td>\n",
       "      <td>1.0</td>\n",
       "      <td>NaN</td>\n",
       "      <td>01/01/2023 0:01</td>\n",
       "      <td>Very important</td>\n",
       "      <td>NaN</td>\n",
       "      <td>4.0</td>\n",
       "      <td>None</td>\n",
       "      <td>2.0</td>\n",
       "      <td>3.0</td>\n",
       "      <td>4.0</td>\n",
       "      <td>4.0</td>\n",
       "      <td>4.0</td>\n",
       "      <td>LB138HKBECM</td>\n",
       "    </tr>\n",
       "    <tr>\n",
       "      <th>2</th>\n",
       "      <td>2</td>\n",
       "      <td>Female</td>\n",
       "      <td>22/07/1998</td>\n",
       "      <td>Indirect - Search Engine</td>\n",
       "      <td>None</td>\n",
       "      <td>3.0</td>\n",
       "      <td>0.0</td>\n",
       "      <td>5.0</td>\n",
       "      <td>01/01/2023 0:02</td>\n",
       "      <td>None</td>\n",
       "      <td>NaN</td>\n",
       "      <td>5.0</td>\n",
       "      <td>Extremely important</td>\n",
       "      <td>2.0</td>\n",
       "      <td>1.0</td>\n",
       "      <td>2.0</td>\n",
       "      <td>3.0</td>\n",
       "      <td>NaN</td>\n",
       "      <td>BL713UHBAAN</td>\n",
       "    </tr>\n",
       "    <tr>\n",
       "      <th>3</th>\n",
       "      <td>3</td>\n",
       "      <td>Female</td>\n",
       "      <td>01/05/1970</td>\n",
       "      <td>Direct - Company Website</td>\n",
       "      <td>Very important</td>\n",
       "      <td>4.0</td>\n",
       "      <td>4.0</td>\n",
       "      <td>4.0</td>\n",
       "      <td>01/01/2023 0:05</td>\n",
       "      <td>Somewhat important</td>\n",
       "      <td>4.0</td>\n",
       "      <td>4.0</td>\n",
       "      <td>None</td>\n",
       "      <td>NaN</td>\n",
       "      <td>NaN</td>\n",
       "      <td>3.0</td>\n",
       "      <td>2.0</td>\n",
       "      <td>4.0</td>\n",
       "      <td>LB243DMKCFL</td>\n",
       "    </tr>\n",
       "    <tr>\n",
       "      <th>4</th>\n",
       "      <td>4</td>\n",
       "      <td>Male</td>\n",
       "      <td>07/01/1960</td>\n",
       "      <td>Direct - Company Website</td>\n",
       "      <td>Somewhat important</td>\n",
       "      <td>4.0</td>\n",
       "      <td>2.0</td>\n",
       "      <td>NaN</td>\n",
       "      <td>01/01/2023 0:06</td>\n",
       "      <td>Not at all important</td>\n",
       "      <td>2.0</td>\n",
       "      <td>NaN</td>\n",
       "      <td>Not at all important</td>\n",
       "      <td>3.0</td>\n",
       "      <td>NaN</td>\n",
       "      <td>5.0</td>\n",
       "      <td>2.0</td>\n",
       "      <td>NaN</td>\n",
       "      <td>LB218CFLOBS</td>\n",
       "    </tr>\n",
       "  </tbody>\n",
       "</table>\n",
       "</div>"
      ],
      "text/plain": [
       "   index  Gender Date of Birth         Source of Traffic  \\\n",
       "0      0    None    05/10/1973  Direct - Company Website   \n",
       "1      1  Female          None   Indirect - Social Media   \n",
       "2      2  Female    22/07/1998  Indirect - Search Engine   \n",
       "3      3  Female    01/05/1970  Direct - Company Website   \n",
       "4      4    Male    07/01/1960  Direct - Company Website   \n",
       "\n",
       "   Onboard Wifi Service  Embarkation/Disembarkation time convenient  \\\n",
       "0    A little important                                         3.0   \n",
       "1  Not at all important                                         4.0   \n",
       "2                  None                                         3.0   \n",
       "3        Very important                                         4.0   \n",
       "4    Somewhat important                                         4.0   \n",
       "\n",
       "   Ease of Online booking  Gate location          Logging  \\\n",
       "0                     5.0            3.0  01/01/2023 0:00   \n",
       "1                     1.0            NaN  01/01/2023 0:01   \n",
       "2                     0.0            5.0  01/01/2023 0:02   \n",
       "3                     4.0            4.0  01/01/2023 0:05   \n",
       "4                     2.0            NaN  01/01/2023 0:06   \n",
       "\n",
       "  Onboard Dining Service  Online Check-in  Cabin Comfort  \\\n",
       "0         Very important              2.0            2.0   \n",
       "1         Very important              NaN            4.0   \n",
       "2                   None              NaN            5.0   \n",
       "3     Somewhat important              4.0            4.0   \n",
       "4   Not at all important              2.0            NaN   \n",
       "\n",
       "  Onboard Entertainment  Cabin service  Baggage handling  \\\n",
       "0    A little important            2.0               2.0   \n",
       "1                  None            2.0               3.0   \n",
       "2   Extremely important            2.0               1.0   \n",
       "3                  None            NaN               NaN   \n",
       "4  Not at all important            3.0               NaN   \n",
       "\n",
       "   Port Check-in Service  Onboard Service  Cleanliness  Ext_Intcode  \n",
       "0                    4.0              2.0          3.0  LB446RWOOZI  \n",
       "1                    4.0              4.0          4.0  LB138HKBECM  \n",
       "2                    2.0              3.0          NaN  BL713UHBAAN  \n",
       "3                    3.0              2.0          4.0  LB243DMKCFL  \n",
       "4                    5.0              2.0          NaN  LB218CFLOBS  "
      ]
     },
     "execution_count": 3,
     "metadata": {},
     "output_type": "execute_result"
    }
   ],
   "source": [
    "dfpre.head()"
   ]
  },
  {
   "cell_type": "code",
   "execution_count": 4,
   "id": "f8c8b622",
   "metadata": {
    "scrolled": false
   },
   "outputs": [
    {
     "name": "stdout",
     "output_type": "stream",
     "text": [
      "<class 'pandas.core.frame.DataFrame'>\n",
      "RangeIndex: 133746 entries, 0 to 133745\n",
      "Data columns (total 19 columns):\n",
      " #   Column                                      Non-Null Count   Dtype  \n",
      "---  ------                                      --------------   -----  \n",
      " 0   index                                       133746 non-null  int64  \n",
      " 1   Gender                                      120290 non-null  object \n",
      " 2   Date of Birth                               119062 non-null  object \n",
      " 3   Source of Traffic                           133746 non-null  object \n",
      " 4   Onboard Wifi Service                        114254 non-null  object \n",
      " 5   Embarkation/Disembarkation time convenient  118103 non-null  float64\n",
      " 6   Ease of Online booking                      115391 non-null  float64\n",
      " 7   Gate location                               116606 non-null  float64\n",
      " 8   Logging                                     133746 non-null  object \n",
      " 9   Onboard Dining Service                      116937 non-null  object \n",
      " 10  Online Check-in                             118059 non-null  float64\n",
      " 11  Cabin Comfort                               113494 non-null  float64\n",
      " 12  Onboard Entertainment                       117833 non-null  object \n",
      " 13  Cabin service                               119914 non-null  float64\n",
      " 14  Baggage handling                            113453 non-null  float64\n",
      " 15  Port Check-in Service                       119399 non-null  float64\n",
      " 16  Onboard Service                             115419 non-null  float64\n",
      " 17  Cleanliness                                 115344 non-null  float64\n",
      " 18  Ext_Intcode                                 133746 non-null  object \n",
      "dtypes: float64(10), int64(1), object(8)\n",
      "memory usage: 19.4+ MB\n"
     ]
    }
   ],
   "source": [
    "dfpre.info()"
   ]
  },
  {
   "cell_type": "code",
   "execution_count": 5,
   "id": "deb2851a",
   "metadata": {},
   "outputs": [
    {
     "data": {
      "text/html": [
       "<div>\n",
       "<style scoped>\n",
       "    .dataframe tbody tr th:only-of-type {\n",
       "        vertical-align: middle;\n",
       "    }\n",
       "\n",
       "    .dataframe tbody tr th {\n",
       "        vertical-align: top;\n",
       "    }\n",
       "\n",
       "    .dataframe thead th {\n",
       "        text-align: right;\n",
       "    }\n",
       "</style>\n",
       "<table border=\"1\" class=\"dataframe\">\n",
       "  <thead>\n",
       "    <tr style=\"text-align: right;\">\n",
       "      <th></th>\n",
       "      <th>index</th>\n",
       "      <th>Cruise Name</th>\n",
       "      <th>Ticket Type</th>\n",
       "      <th>Cruise Distance</th>\n",
       "      <th>Ext_Intcode</th>\n",
       "      <th>WiFi</th>\n",
       "      <th>Dining</th>\n",
       "      <th>Entertainment</th>\n",
       "    </tr>\n",
       "  </thead>\n",
       "  <tbody>\n",
       "    <tr>\n",
       "      <th>0</th>\n",
       "      <td>0</td>\n",
       "      <td>Blastoise</td>\n",
       "      <td>None</td>\n",
       "      <td>3567 KM</td>\n",
       "      <td>LB446RWOOZI</td>\n",
       "      <td>1.0</td>\n",
       "      <td>1</td>\n",
       "      <td>1.0</td>\n",
       "    </tr>\n",
       "    <tr>\n",
       "      <th>1</th>\n",
       "      <td>1</td>\n",
       "      <td>Blastoise</td>\n",
       "      <td>Deluxe</td>\n",
       "      <td>672 KM</td>\n",
       "      <td>LB138HKBECM</td>\n",
       "      <td>NaN</td>\n",
       "      <td>0</td>\n",
       "      <td>1.0</td>\n",
       "    </tr>\n",
       "    <tr>\n",
       "      <th>2</th>\n",
       "      <td>2</td>\n",
       "      <td>IAPRAS</td>\n",
       "      <td>Deluxe</td>\n",
       "      <td>1167 KM</td>\n",
       "      <td>BL713UHBAAN</td>\n",
       "      <td>NaN</td>\n",
       "      <td>0</td>\n",
       "      <td>0.0</td>\n",
       "    </tr>\n",
       "    <tr>\n",
       "      <th>3</th>\n",
       "      <td>3</td>\n",
       "      <td>Lapras</td>\n",
       "      <td>Deluxe</td>\n",
       "      <td>280 KM</td>\n",
       "      <td>LB243DMKCFL</td>\n",
       "      <td>NaN</td>\n",
       "      <td>0</td>\n",
       "      <td>1.0</td>\n",
       "    </tr>\n",
       "    <tr>\n",
       "      <th>4</th>\n",
       "      <td>4</td>\n",
       "      <td>Lapras</td>\n",
       "      <td>Standard</td>\n",
       "      <td>1145 Miles</td>\n",
       "      <td>LB218CFLOBS</td>\n",
       "      <td>NaN</td>\n",
       "      <td>1</td>\n",
       "      <td>NaN</td>\n",
       "    </tr>\n",
       "  </tbody>\n",
       "</table>\n",
       "</div>"
      ],
      "text/plain": [
       "   index Cruise Name Ticket Type Cruise Distance  Ext_Intcode  WiFi  Dining  \\\n",
       "0      0   Blastoise        None         3567 KM  LB446RWOOZI   1.0       1   \n",
       "1      1   Blastoise      Deluxe          672 KM  LB138HKBECM   NaN       0   \n",
       "2      2      IAPRAS      Deluxe         1167 KM  BL713UHBAAN   NaN       0   \n",
       "3      3      Lapras      Deluxe          280 KM  LB243DMKCFL   NaN       0   \n",
       "4      4      Lapras    Standard      1145 Miles  LB218CFLOBS   NaN       1   \n",
       "\n",
       "   Entertainment  \n",
       "0            1.0  \n",
       "1            1.0  \n",
       "2            0.0  \n",
       "3            1.0  \n",
       "4            NaN  "
      ]
     },
     "execution_count": 5,
     "metadata": {},
     "output_type": "execute_result"
    }
   ],
   "source": [
    "dfpost.head()"
   ]
  },
  {
   "cell_type": "markdown",
   "id": "27884797",
   "metadata": {},
   "source": [
    "##### We can simply drop the index column"
   ]
  },
  {
   "cell_type": "code",
   "execution_count": 6,
   "id": "8ba3663d",
   "metadata": {},
   "outputs": [],
   "source": [
    "dfpre.drop('index', axis=1, inplace=True)\n",
    "dfpost.drop('index', axis=1, inplace=True)"
   ]
  },
  {
   "cell_type": "markdown",
   "id": "fc7655b1",
   "metadata": {},
   "source": [
    "#### Column names from the presurvey data and post-trip data are unique, other than Ext_Intcode. Perform inner join on this feature.  This feature identifies every passenger, but in both pre-trip and post-trip datasets, only about 97% of the entries are unique. We can attribute the ~3% non-uniqueness to errors in data entry, and drop this column after merging the datasets"
   ]
  },
  {
   "cell_type": "code",
   "execution_count": 7,
   "id": "ada82173",
   "metadata": {},
   "outputs": [
    {
     "data": {
      "text/plain": [
       "0.9708701568645044"
      ]
     },
     "execution_count": 7,
     "metadata": {},
     "output_type": "execute_result"
    }
   ],
   "source": [
    "len(dfpre['Ext_Intcode'].unique().tolist())/len(dfpre)"
   ]
  },
  {
   "cell_type": "code",
   "execution_count": 8,
   "id": "9cf464c5",
   "metadata": {},
   "outputs": [
    {
     "data": {
      "text/plain": [
       "0.9708701568645044"
      ]
     },
     "execution_count": 8,
     "metadata": {},
     "output_type": "execute_result"
    }
   ],
   "source": [
    "len(dfpost['Ext_Intcode'].unique().tolist())/len(dfpost)"
   ]
  },
  {
   "cell_type": "code",
   "execution_count": 9,
   "id": "f12d0ad6",
   "metadata": {},
   "outputs": [],
   "source": [
    "common_columns = set(dfpre.columns) & set(dfpost.columns)\n",
    "\n",
    "df = pd.merge(dfpre, dfpost, on='Ext_Intcode', how='inner')\n",
    "df.drop('Ext_Intcode', axis=1, inplace=True)\n",
    "\n",
    "# need to list out non-unique to see if the entries are same, repeated ones (then remove 1 row?) or something else (too messy then remove entirely?)?\n",
    "# find ranking of which (wifi,d,e) has most 4/5 ranking options voted\n",
    "# for those w 4/5 rank options voted, were they satisfied"
   ]
  },
  {
   "cell_type": "markdown",
   "id": "bd03c91e",
   "metadata": {},
   "source": [
    "## 1. Convert all entries to numbers"
   ]
  },
  {
   "cell_type": "markdown",
   "id": "931da3f0",
   "metadata": {},
   "source": [
    "#### Get an overview of the types of information in each column. We want to convert every entry to a number."
   ]
  },
  {
   "cell_type": "code",
   "execution_count": 10,
   "id": "a1f9879f",
   "metadata": {},
   "outputs": [
    {
     "name": "stdout",
     "output_type": "stream",
     "text": [
      "<class 'pandas.core.frame.DataFrame'>\n",
      "Int64Index: 141538 entries, 0 to 141537\n",
      "Data columns (total 23 columns):\n",
      " #   Column                                      Non-Null Count   Dtype  \n",
      "---  ------                                      --------------   -----  \n",
      " 0   Gender                                      127308 non-null  object \n",
      " 1   Date of Birth                               126056 non-null  object \n",
      " 2   Source of Traffic                           141538 non-null  object \n",
      " 3   Onboard Wifi Service                        120910 non-null  object \n",
      " 4   Embarkation/Disembarkation time convenient  125005 non-null  float64\n",
      " 5   Ease of Online booking                      122047 non-null  float64\n",
      " 6   Gate location                               123400 non-null  float64\n",
      " 7   Logging                                     141538 non-null  object \n",
      " 8   Onboard Dining Service                      123793 non-null  object \n",
      " 9   Online Check-in                             124909 non-null  float64\n",
      " 10  Cabin Comfort                               116917 non-null  float64\n",
      " 11  Onboard Entertainment                       124693 non-null  object \n",
      " 12  Cabin service                               126950 non-null  float64\n",
      " 13  Baggage handling                            116869 non-null  float64\n",
      " 14  Port Check-in Service                       126389 non-null  float64\n",
      " 15  Onboard Service                             122059 non-null  float64\n",
      " 16  Cleanliness                                 118824 non-null  float64\n",
      " 17  Cruise Name                                 124637 non-null  object \n",
      " 18  Ticket Type                                 120282 non-null  object \n",
      " 19  Cruise Distance                             126234 non-null  object \n",
      " 20  WiFi                                        67758 non-null   float64\n",
      " 21  Dining                                      141538 non-null  int64  \n",
      " 22  Entertainment                               77969 non-null   float64\n",
      "dtypes: float64(12), int64(1), object(10)\n",
      "memory usage: 25.9+ MB\n"
     ]
    }
   ],
   "source": [
    "df.info()"
   ]
  },
  {
   "cell_type": "code",
   "execution_count": 11,
   "id": "b8bf613e",
   "metadata": {},
   "outputs": [
    {
     "data": {
      "text/plain": [
       "Gender                                        0.101\n",
       "Date of Birth                                 0.109\n",
       "Source of Traffic                             0.000\n",
       "Onboard Wifi Service                          0.146\n",
       "Embarkation/Disembarkation time convenient    0.117\n",
       "Ease of Online booking                        0.138\n",
       "Gate location                                 0.128\n",
       "Logging                                       0.000\n",
       "Onboard Dining Service                        0.125\n",
       "Online Check-in                               0.117\n",
       "Cabin Comfort                                 0.174\n",
       "Onboard Entertainment                         0.119\n",
       "Cabin service                                 0.103\n",
       "Baggage handling                              0.174\n",
       "Port Check-in Service                         0.107\n",
       "Onboard Service                               0.138\n",
       "Cleanliness                                   0.160\n",
       "Cruise Name                                   0.119\n",
       "Ticket Type                                   0.150\n",
       "Cruise Distance                               0.108\n",
       "WiFi                                          0.521\n",
       "Dining                                        0.000\n",
       "Entertainment                                 0.449\n",
       "dtype: float64"
      ]
     },
     "execution_count": 11,
     "metadata": {},
     "output_type": "execute_result"
    }
   ],
   "source": [
    "df.isnull().mean().round(3)"
   ]
  },
  {
   "cell_type": "markdown",
   "id": "93631dbd",
   "metadata": {},
   "source": [
    "#### First convert \"Dining\" to a float number, like the rest"
   ]
  },
  {
   "cell_type": "code",
   "execution_count": 12,
   "id": "ebf82dce",
   "metadata": {},
   "outputs": [],
   "source": [
    "df['Dining'] = df['Dining'].astype(float)"
   ]
  },
  {
   "cell_type": "markdown",
   "id": "5b3a1111",
   "metadata": {},
   "source": [
    "##### Next, for columns whose ratings are on the scale 1 to 5 in the prepurchase survey, 1 being \"Not at all important\" and 5 being \"Extremely important\", not all of them are uniform in their entries. Some are in the string format (eg, \"Not at all important\") while others are in numerical format. Convert all the entries in columns with the string format into their corresponding numerical values based on the scale."
   ]
  },
  {
   "cell_type": "code",
   "execution_count": 13,
   "id": "f16304ba",
   "metadata": {},
   "outputs": [],
   "source": [
    "mapping = {'Not at all important': 1, 'A little important': 2, 'Somewhat important': 3, 'Very important': 4, 'Extremely important': 5}\n",
    "cols = df.columns[df.isin(['Somewhat important']).any()].tolist()\n",
    "# check for columns with \"Somwhat important\" since this is considered the \"average\" value,\n",
    "# and all relevant columns with string entries are expected to have them and \n",
    "# we are less likely to miss out any in cols.\n",
    "\n",
    "for i in cols:\n",
    "    df[i] = df[i].replace(mapping)"
   ]
  },
  {
   "cell_type": "markdown",
   "id": "18ad8a86",
   "metadata": {},
   "source": [
    "#### We next examine the rest of the columns in the pre-trip survey which are ratings for the level of importance of various on-board service."
   ]
  },
  {
   "cell_type": "code",
   "execution_count": 14,
   "id": "1118d391",
   "metadata": {},
   "outputs": [
    {
     "data": {
      "image/png": "[encoded data removed]",
      "text/plain": [
       "<Figure size 400x300 with 1 Axes>"
      ]
     },
     "metadata": {},
     "output_type": "display_data"
    },
    {
     "data": {
      "image/png": "[encoded data removed]",
      "text/plain": [
       "<Figure size 400x300 with 1 Axes>"
      ]
     },
     "metadata": {},
     "output_type": "display_data"
    },
    {
     "data": {
      "image/png": "[encoded data removed]",
      "text/plain": [
       "<Figure size 400x300 with 1 Axes>"
      ]
     },
     "metadata": {},
     "output_type": "display_data"
    },
    {
     "data": {
      "image/png": "[encoded data removed]",
      "text/plain": [
       "<Figure size 400x300 with 1 Axes>"
      ]
     },
     "metadata": {},
     "output_type": "display_data"
    },
    {
     "data": {
      "image/png": "[encoded data removed]",
      "text/plain": [
       "<Figure size 400x300 with 1 Axes>"
      ]
     },
     "metadata": {},
     "output_type": "display_data"
    },
    {
     "data": {
      "image/png": "[encoded data removed]",
      "text/plain": [
       "<Figure size 400x300 with 1 Axes>"
      ]
     },
     "metadata": {},
     "output_type": "display_data"
    },
    {
     "data": {
      "image/png": "[encoded data removed]",
      "text/plain": [
       "<Figure size 400x300 with 1 Axes>"
      ]
     },
     "metadata": {},
     "output_type": "display_data"
    },
    {
     "data": {
      "image/png": "[encoded data removed]",
      "text/plain": [
       "<Figure size 400x300 with 1 Axes>"
      ]
     },
     "metadata": {},
     "output_type": "display_data"
    },
    {
     "data": {
      "image/png": "[encoded data removed]",
      "text/plain": [
       "<Figure size 400x300 with 1 Axes>"
      ]
     },
     "metadata": {},
     "output_type": "display_data"
    },
    {
     "data": {
      "image/png": "[encoded data removed]",
      "text/plain": [
       "<Figure size 400x300 with 1 Axes>"
      ]
     },
     "metadata": {},
     "output_type": "display_data"
    }
   ],
   "source": [
    "rating_col = ['Ease of Online booking', \"Embarkation/Disembarkation time convenient\", 'Gate location', \n",
    "                'Online Check-in', 'Cabin Comfort', 'Cabin service', 'Baggage handling', \n",
    "              'Port Check-in Service', 'Onboard Service', 'Cleanliness']\n",
    "\n",
    "for i in rating_col:\n",
    "    plt.figure(figsize=(4, 3))\n",
    "    p = df[i].hist()\n",
    "    \n",
    "    plt.title(i)\n",
    "    plt.show()"
   ]
  },
  {
   "cell_type": "markdown",
   "id": "9c14d9a2",
   "metadata": {},
   "source": [
    "#### In general, most people value cleaniness and cabin service, as well as having services to ensure they have a smooth trip, such as port check-in service, baggage handling, convenience of embarkation/disembarkation time, and gate location."
   ]
  },
  {
   "cell_type": "markdown",
   "id": "a9fb16d6",
   "metadata": {},
   "source": [
    "#### Next, examine the data for \"Ticket type\". As expected, \"deluxe\" tickets form a minority. We should take care to maintain this ratio of ticket types when splitting the data into training and testing sets to ensure that there are enough \"deluxe\" targets in both sets for the model to train on and for evaluation of the model.\n",
    "\n",
    "#### Also, map these ticket types to numerical values"
   ]
  },
  {
   "cell_type": "code",
   "execution_count": 15,
   "id": "a0f9b3e7",
   "metadata": {},
   "outputs": [
    {
     "data": {
      "image/png": "[encoded data removed]",
      "text/plain": [
       "<Figure size 800x400 with 1 Axes>"
      ]
     },
     "metadata": {},
     "output_type": "display_data"
    }
   ],
   "source": [
    "plt.figure(figsize=(8, 4)) \n",
    "df['Ticket Type'].hist()\n",
    "\n",
    "plt.title('Ticket Type')\n",
    "plt.show()"
   ]
  },
  {
   "cell_type": "code",
   "execution_count": 16,
   "id": "9dcec9f0",
   "metadata": {},
   "outputs": [],
   "source": [
    "mapping2 = {'Deluxe': 3, 'Luxury': 2, 'Standard': 1}\n",
    "\n",
    "df['Ticket Type'] = df['Ticket Type'].replace(mapping2)"
   ]
  },
  {
   "cell_type": "markdown",
   "id": "c2ffbeb7",
   "metadata": {},
   "source": [
    "#### Next, the column on \"Cruise Name\". It appears that there are different cruises, blastoise and lapras. But (missing entries aside) many entries are not inputted properly. Proceed to clean them up into either of these two categories. "
   ]
  },
  {
   "cell_type": "code",
   "execution_count": 17,
   "id": "9c5f801c",
   "metadata": {},
   "outputs": [
    {
     "name": "stdout",
     "output_type": "stream",
     "text": [
      "['blastoise' 'iapras' 'lapras' None 'blast' 'lap' 'blast0ise']\n"
     ]
    }
   ],
   "source": [
    "df['Cruise Name'] = df['Cruise Name'].str.lower()\n",
    "print(df['Cruise Name'].unique())"
   ]
  },
  {
   "cell_type": "code",
   "execution_count": 18,
   "id": "7d893483",
   "metadata": {},
   "outputs": [],
   "source": [
    "df['Cruise Name'] = df['Cruise Name'].str.replace('blast0ise', 'blastoise')\n",
    "df['Cruise Name'] = df['Cruise Name'].str.replace(r'\\bblast\\b', 'blastoise', regex=True)\n",
    "\n",
    "df['Cruise Name'] = df['Cruise Name'].str.replace('iapras', 'lapras')\n",
    "df['Cruise Name'] = df['Cruise Name'].str.replace(r'\\blap\\b', 'lapras', regex=True)"
   ]
  },
  {
   "cell_type": "markdown",
   "id": "a0f65491",
   "metadata": {},
   "source": [
    "#### It appears that most people prefer the Blastoise cruise (even after accounting for ~12% of missing data)."
   ]
  },
  {
   "cell_type": "code",
   "execution_count": 19,
   "id": "b3bed499",
   "metadata": {
    "scrolled": false
   },
   "outputs": [
    {
     "data": {
      "image/png": "[encoded data removed]",
      "text/plain": [
       "<Figure size 800x400 with 1 Axes>"
      ]
     },
     "metadata": {},
     "output_type": "display_data"
    }
   ],
   "source": [
    "plt.figure(figsize=(8, 4)) \n",
    "df['Cruise Name'].hist()\n",
    "\n",
    "plt.title('Cruise Name')\n",
    "plt.show()"
   ]
  },
  {
   "cell_type": "markdown",
   "id": "66a1242d",
   "metadata": {},
   "source": [
    "#### We can examine the proportion of missing values filtered by \"Cruise Name\". Since there are relatively low and similar proportions of missing values per category, we do not have to exclude any category from the analysis as we can conclude that the data is relatively complete and there are no major issues with data quality.\n",
    "\n",
    "#### Thus we can impute missing data based on the most popular ticket filtered by cruise type. This also preserves the sample size as compared to dropping missing values."
   ]
  },
  {
   "cell_type": "code",
   "execution_count": 59,
   "id": "517de259",
   "metadata": {},
   "outputs": [
    {
     "name": "stdout",
     "output_type": "stream",
     "text": [
      "proportion missing in missing:  0.0\n",
      "proportion missing in lapras:  0.0\n",
      "proportion missing in blastoise:  0.0\n"
     ]
    }
   ],
   "source": [
    "missing_counts = df.groupby('Cruise Name')['Ticket Type'].apply(lambda x: x.isnull().sum())\n",
    "cruise_names = ['missing', 'lapras', 'blastoise']\n",
    "for i in range(len(missing_counts)):\n",
    "    print(f\"proportion missing in {cruise_names[i]}: \", round(missing_counts[i]/(len(df['Cruise Name'][df['Cruise Name']==i])),3) )"
   ]
  },
  {
   "cell_type": "markdown",
   "id": "2ee0322d",
   "metadata": {},
   "source": [
    "#### Next, examine the entry on \"Cruise Distance\". It is somehow of an object type when instead, we expect a number."
   ]
  },
  {
   "cell_type": "code",
   "execution_count": 20,
   "id": "92720d33",
   "metadata": {},
   "outputs": [
    {
     "data": {
      "text/plain": [
       "0       3567 KM\n",
       "1        672 KM\n",
       "2       1167 KM\n",
       "3        280 KM\n",
       "4    1145 Miles\n",
       "Name: Cruise Distance, dtype: object"
      ]
     },
     "execution_count": 20,
     "metadata": {},
     "output_type": "execute_result"
    }
   ],
   "source": [
    "df[\"Cruise Distance\"].head()"
   ]
  },
  {
   "cell_type": "markdown",
   "id": "070095c6",
   "metadata": {},
   "source": [
    "#### There are entries with miles and km. Convert all units to km, and leave only the numerical value."
   ]
  },
  {
   "cell_type": "code",
   "execution_count": 21,
   "id": "d1147645",
   "metadata": {},
   "outputs": [],
   "source": [
    "def convert(entry):\n",
    "    \n",
    "    try:\n",
    "        n = entry.split()\n",
    "        if len(n) == 2:\n",
    "            value, unit = float(n[0]), n[1].lower()\n",
    "            if unit == 'km':\n",
    "                return value\n",
    "            elif unit == 'miles':\n",
    "                return value * 1.60934 \n",
    "    except:\n",
    "        return \n",
    "        \n",
    "df['Cruise Distance'] = df['Cruise Distance'].apply(convert)\n"
   ]
  },
  {
   "cell_type": "markdown",
   "id": "410bb33d",
   "metadata": {},
   "source": [
    "#### There are missing values for \"Cruise Distance\" that also have missing values for \"Cruise Type\". We can treat missing cruise types as a 3rd cruise category and fill these missing distances with the mean of this new category. \n",
    "\n",
    "#### One-hot encode the column \"Cruise Name\". Relabel missing values as 0. "
   ]
  },
  {
   "cell_type": "code",
   "execution_count": 22,
   "id": "888af5af",
   "metadata": {},
   "outputs": [],
   "source": [
    "# df['cruise_name_missing'] = df['Cruise Name'].isnull().astype(float)\n",
    "\n",
    "df['Cruise Name'].fillna(0, inplace=True)\n",
    "mapping = {\"lapras\": 1.0, \"blastoise\":2.0}\n",
    "df['Cruise Name'] = df['Cruise Name'].replace(mapping)\n",
    "\n",
    "\n",
    "# avg_m = df['Cruise Distance'][df['Cruise Name']==0].mean()\n",
    "# df['Cruise Distance'].fillna(avg_m, inplace=True)"
   ]
  },
  {
   "cell_type": "markdown",
   "id": "13447150",
   "metadata": {},
   "source": [
    "#### Blastoise is generally a longer cruise than Lapras since its median and spread of values occupies a larger numerical position on the number scale.\n",
    "\n",
    "#### Note also that, for some reason, there are negative cruise distances. We have to clean this up in the data preprocessing stage."
   ]
  },
  {
   "cell_type": "code",
   "execution_count": 23,
   "id": "b4fe4fb7",
   "metadata": {},
   "outputs": [
    {
     "name": "stdout",
     "output_type": "stream",
     "text": [
      "cruise name: Lapras\n"
     ]
    },
    {
     "data": {
      "text/plain": [
       "count    37473.000000\n",
       "mean       799.029470\n",
       "std        934.490897\n",
       "min      -6381.033100\n",
       "25%        328.000000\n",
       "50%        633.000000\n",
       "75%       1107.000000\n",
       "max       6403.563860\n",
       "Name: Cruise Distance, dtype: float64"
      ]
     },
     "execution_count": 23,
     "metadata": {},
     "output_type": "execute_result"
    }
   ],
   "source": [
    "lapras = df.loc[df['Cruise Name'] == 1, 'Cruise Distance']\n",
    "print(\"cruise name: Lapras\")\n",
    "lapras.describe()"
   ]
  },
  {
   "cell_type": "code",
   "execution_count": 24,
   "id": "4f364f2b",
   "metadata": {
    "scrolled": true
   },
   "outputs": [
    {
     "name": "stdout",
     "output_type": "stream",
     "text": [
      "cruise name: Blastoise\n"
     ]
    },
    {
     "data": {
      "text/plain": [
       "count    73563.000000\n",
       "mean      1223.415115\n",
       "std       1407.427831\n",
       "min      -6416.438580\n",
       "25%        386.620800\n",
       "50%        909.000000\n",
       "75%       2079.000000\n",
       "max       7987.154420\n",
       "Name: Cruise Distance, dtype: float64"
      ]
     },
     "execution_count": 24,
     "metadata": {},
     "output_type": "execute_result"
    }
   ],
   "source": [
    "blast = df.loc[df['Cruise Name'] == 2, 'Cruise Distance']\n",
    "print(\"cruise name: Blastoise\")\n",
    "blast.describe()"
   ]
  },
  {
   "cell_type": "markdown",
   "id": "46ff32b0",
   "metadata": {},
   "source": [
    "#### Now that \"Cruise Name\" has been cleaned up, we can proceed to further examine how the percieved importance of on-board services based on pre-trip ratings compares with cruise types.\n",
    "\n",
    "#### Observations \n",
    "- Ease of online booking: looking at those who rated it 5, blastoise is the preferred cruise.\n",
    "- Embarkation/disembarkation time convenience: as the level of importance goes up, proportion of preferences shift toward lapras, though the majority still prefer blastoise. \n",
    "- Online check-in: ratings 4 and above significantly prefer blastoise\n",
    "- Cabin comfort: as the level of importance goes up, the proportion of preferences shift toward blastoise.\n",
    "- Cabin service: as the level of importance goes up, the proportion of preferences shift toward blastoise.\n",
    "\n",
    "#### Proportion of preferences of either of lapras or blastoise is similar across the rest of the on-board services. Since blastoise has a longer cruise distance (and hence expected cruise duration), it is reasonable to expect that better cabin comforts and services shift people's preferences toward the blastoise cruise.\n",
    "\n",
    "#### Note: 0, 1, 2 for missing cruise name, lapras and blastoise, respectively."
   ]
  },
  {
   "cell_type": "code",
   "execution_count": 25,
   "id": "244d692b",
   "metadata": {
    "scrolled": true
   },
   "outputs": [
    {
     "name": "stdout",
     "output_type": "stream",
     "text": [
      "Cruise Name              0.0   1.0    2.0\n",
      "Ease of Online booking                   \n",
      "0.0                      599  1965   2718\n",
      "1.0                     2408  6096  12061\n",
      "2.0                     3341  9773  15065\n",
      "3.0                     3445  9824  15304\n",
      "4.0                     2699  6060  14317\n",
      "5.0                     2042  2504  11826\n",
      "_______________________________________________\n",
      "Cruise Name                                  0.0    1.0    2.0\n",
      "Embarkation/Disembarkation time convenient                    \n",
      "0.0                                          720   1249   4403\n",
      "1.0                                         2224   3709  12810\n",
      "2.0                                         2490   4174  14104\n",
      "3.0                                         2508   4807  14359\n",
      "4.0                                         3656  12271  14613\n",
      "5.0                                         3271  11001  12636\n",
      "_______________________________________________\n",
      "Cruise Name     0.0    1.0    2.0\n",
      "Gate location                    \n",
      "0.0               1      0      0\n",
      "1.0            2410   5605  12825\n",
      "2.0            2730   6673  13657\n",
      "3.0            4008  12061  17894\n",
      "4.0            3436   9177  16418\n",
      "5.0            2064   3104  11337\n",
      "_______________________________________________\n",
      "Cruise Name       0.0   1.0    2.0\n",
      "Online Check-in                   \n",
      "0.0               357  1413   1174\n",
      "1.0              1500  4987   6320\n",
      "2.0              2531  8052  10677\n",
      "3.0              3100  9141  13766\n",
      "4.0              4492  8618  23765\n",
      "5.0              2949  4824  17243\n",
      "_______________________________________________\n",
      "Cruise Name     0.0   1.0    2.0\n",
      "Cabin Comfort                   \n",
      "0.0               0     0      1\n",
      "1.0            1585  5332   6775\n",
      "2.0            1930  5904   8864\n",
      "3.0            2471  6635  11810\n",
      "4.0            4327  9098  22244\n",
      "5.0            3582  7874  18485\n",
      "_______________________________________________\n",
      "Cruise Name     0.0    1.0    2.0\n",
      "Cabin service                    \n",
      "0.0               0      0      5\n",
      "1.0            1765   4889   7843\n",
      "2.0            2064   5251  10384\n",
      "3.0            3334   9511  15173\n",
      "4.0            4530  10127  23191\n",
      "5.0            3464   7904  17515\n",
      "_______________________________________________\n",
      "Cruise Name        0.0    1.0    2.0\n",
      "Baggage handling                    \n",
      "1.0                988   2917   4148\n",
      "2.0               1513   3993   7374\n",
      "3.0               2766   6846  13735\n",
      "4.0               5007  11903  25145\n",
      "5.0               3643   9112  17779\n",
      "_______________________________________________\n",
      "Cruise Name             0.0    1.0    2.0\n",
      "Port Check-in Service                    \n",
      "1.0                    1820   4437   9324\n",
      "2.0                    1856   4521   9290\n",
      "3.0                    4085  10356  19900\n",
      "4.0                    4205  10624  20629\n",
      "5.0                    3053   7587  14702\n",
      "_______________________________________________\n",
      "Cruise Name       0.0    1.0    2.0\n",
      "Onboard Service                    \n",
      "0.0                 0      0      5\n",
      "1.0               991   2990   4407\n",
      "2.0              1537   4137   7652\n",
      "3.0              2852   6897  13997\n",
      "4.0              5293  12897  26416\n",
      "5.0              3828   9380  18780\n",
      "_______________________________________________\n",
      "Cruise Name   0.0   1.0    2.0\n",
      "Cleanliness                   \n",
      "0.0             1     0     13\n",
      "1.0          1748  5471   8060\n",
      "2.0          2147  6405   9913\n",
      "3.0          3419  8002  16581\n",
      "4.0          3730  8292  19098\n",
      "5.0          3093  7274  15577\n",
      "_______________________________________________\n"
     ]
    }
   ],
   "source": [
    "for i in rating_col:\n",
    "    m = df.pivot_table(index=i, columns='Cruise Name', aggfunc='size', fill_value=0)\n",
    "    print(m)\n",
    "    print(\"_______________________________________________\")"
   ]
  },
  {
   "cell_type": "markdown",
   "id": "e67a6ce0",
   "metadata": {},
   "source": [
    "#### We canalso examine how the percieved importance of on-board services based on pre-trip ratings compares with ticket types.\n",
    "\n",
    "#### Observations \n",
    "- Ease of online booking: as the level of importance goes up, proportion of preferences shift toward luxury tickets\n",
    "- Embarkation/disembarkation time convenience: as the level of importance goes up, proportion of preferences shift toward deluxe tickets.\n",
    "- Gate location: as the level of importance goes up, proportion of preferences shift toward luxury tickets.\n",
    "- Online check-in: as the level of importance goes up, proportion of preferences shift toward luxury tickets.\n",
    "- Cabin comfort: as the level of importance goes up, the proportion of preferences shift toward luxury tickets.\n",
    "- Cabin service: as the level of importance goes up, the proportion of preferences shift toward luxury tickets.\n",
    "- Baggage handling: as the level of importance goes up, the proportion of preferences shift toward luxury tickets.\n",
    "- Onboard service: as the level of importance goes up, the proportion of preferences shift toward luxury tickets.\n",
    "\n",
    "#### The proportions of preferences for tickets are the same across perceptions for the remaining categories of cleaniness, port check-in service. More people seem to think that it is worth the extra cost to upgrade to a luxury ticket instead of a deluxe ticket for what they deem as important. Perhaps deluxe tickets only provide a marginal difference in these services to passengers such that people generally do not think it is worth the extra money to go for a deluxe ticket.\n",
    "\n",
    "#### Note: ticket type 1,2,3 for standard, luxury, deluxe, respectively."
   ]
  },
  {
   "cell_type": "code",
   "execution_count": 26,
   "id": "c96e4926",
   "metadata": {
    "scrolled": true
   },
   "outputs": [
    {
     "name": "stdout",
     "output_type": "stream",
     "text": [
      "Ticket Type               1.0    2.0   3.0\n",
      "Ease of Online booking                    \n",
      "0.0                      2059   2043   376\n",
      "1.0                      7914   8208  1329\n",
      "2.0                     12197   9909  1805\n",
      "3.0                     12320  10111  1905\n",
      "4.0                      8101  10215  1324\n",
      "5.0                      3875   9132   844\n",
      "_________________________________\n",
      "Ticket Type                                   1.0    2.0   3.0\n",
      "Embarkation/Disembarkation time convenient                    \n",
      "0.0                                          2883   2270   253\n",
      "1.0                                          5775   9047  1068\n",
      "2.0                                          6769   9673  1178\n",
      "3.0                                          7399   9686  1319\n",
      "4.0                                         13471  10519  2047\n",
      "5.0                                         11354   9695  1838\n",
      "_________________________________\n",
      "Ticket Type      1.0    2.0   3.0\n",
      "Gate location                    \n",
      "0.0                0      1     0\n",
      "1.0             6975   9506  1204\n",
      "2.0             8291   9888  1373\n",
      "3.0            15291  11401  2171\n",
      "4.0            12197  10691  1842\n",
      "5.0             4379   8706   937\n",
      "_________________________________\n",
      "Ticket Type        1.0    2.0   3.0\n",
      "Online Check-in                    \n",
      "0.0               1681    541   303\n",
      "1.0               6887   2998  1031\n",
      "2.0              11137   5179  1666\n",
      "3.0              12300   7917  1980\n",
      "4.0              10487  19127  1771\n",
      "5.0               5209  15076   957\n",
      "_________________________________\n",
      "Ticket Type      1.0    2.0   3.0\n",
      "Cabin Comfort                    \n",
      "0.0                0      1     0\n",
      "1.0             7253   3321  1100\n",
      "2.0             8258   4642  1283\n",
      "3.0             9256   6947  1576\n",
      "4.0            10848  17745  1833\n",
      "5.0             9075  14801  1446\n",
      "_________________________________\n",
      "Ticket Type      1.0    2.0   3.0\n",
      "Cabin service                    \n",
      "0.0                0      4     0\n",
      "1.0             7580   3412  1357\n",
      "2.0             7899   5567  1452\n",
      "3.0            12280   9789  1893\n",
      "4.0            12273  17932  1927\n",
      "5.0             8351  14920  1258\n",
      "_________________________________\n",
      "Ticket Type         1.0    2.0   3.0\n",
      "Baggage handling                    \n",
      "1.0                3857   2287   710\n",
      "2.0                5566   4365   973\n",
      "3.0               11036   7032  1935\n",
      "4.0               14805  18560  2357\n",
      "5.0                9367  15290  1247\n",
      "_________________________________\n",
      "Ticket Type              1.0    2.0   3.0\n",
      "Port Check-in Service                    \n",
      "1.0                     7602   4335  1404\n",
      "2.0                     7485   4420  1409\n",
      "3.0                    12445  14890  1866\n",
      "4.0                    12707  15364  1919\n",
      "5.0                     8053  12322  1202\n",
      "_________________________________\n",
      "Ticket Type        1.0    2.0   3.0\n",
      "Onboard Service                    \n",
      "0.0                  0      4     0\n",
      "1.0               4084   2393   669\n",
      "2.0               5741   4570   970\n",
      "3.0              11111   7164  1973\n",
      "4.0              15765  19520  2521\n",
      "5.0               9783  16037  1362\n",
      "_________________________________\n",
      "Ticket Type    1.0    2.0   3.0\n",
      "Cleanliness                    \n",
      "0.0              4      3     6\n",
      "1.0           7319   4552  1140\n",
      "2.0           8823   5420  1421\n",
      "3.0           9855  12320  1624\n",
      "4.0          10519  14182  1759\n",
      "5.0           8877  11766  1432\n",
      "_________________________________\n"
     ]
    }
   ],
   "source": [
    "for i in rating_col:\n",
    "    m = df.pivot_table(index=i, columns='Ticket Type', aggfunc='size', fill_value=0)\n",
    "    print(m)\n",
    "    print(\"_________________________________\")"
   ]
  },
  {
   "cell_type": "markdown",
   "id": "d0b0846b",
   "metadata": {},
   "source": [
    "#### Next, we examine perceptions of the importance of dining, wifi and entertainment based on the pre-trip survey against how passengers felt towards these factors in the post-trip survey. Compare the satisfaction levels of passengers of wifi, dining, and entertainment from the post-trip survey with the respective rated level of importance in the pre-trip survey.\n",
    "\n",
    "#### There is generally an equal proportion of passengers who are satisfied/unsatisfied with dining across perceptions of its importance, for all cruise types and ticket types."
   ]
  },
  {
   "cell_type": "code",
   "execution_count": 27,
   "id": "d09b42d9",
   "metadata": {
    "scrolled": true
   },
   "outputs": [
    {
     "name": "stdout",
     "output_type": "stream",
     "text": [
      "lapras ,  standard\n",
      "Dining                   0.0   1.0\n",
      "Onboard Dining Service            \n",
      "1.0                     1817  1853\n",
      "2.0                     2489  2574\n",
      "3.0                     2505  2373\n",
      "4.0                     2421  2359\n",
      "5.0                     2278  2342\n",
      "_________________________________\n",
      "lapras ,  luxury\n",
      "Dining                  0.0  1.0\n",
      "Onboard Dining Service          \n",
      "1.0                     265  256\n",
      "2.0                     546  519\n",
      "3.0                     519  571\n",
      "4.0                     589  551\n",
      "5.0                     558  576\n",
      "_________________________________\n",
      "lapras ,  deluxe\n",
      "Dining                  0.0  1.0\n",
      "Onboard Dining Service          \n",
      "1.0                     256  269\n",
      "2.0                     350  372\n",
      "3.0                     329  360\n",
      "4.0                     370  328\n",
      "5.0                     302  341\n",
      "_________________________________\n",
      "blastoise ,  standard\n",
      "Dining                   0.0   1.0\n",
      "Onboard Dining Service            \n",
      "1.0                     1474  1454\n",
      "2.0                     1834  1896\n",
      "3.0                     1995  1923\n",
      "4.0                     2156  2163\n",
      "5.0                     1827  1823\n",
      "_________________________________\n",
      "blastoise ,  luxury\n",
      "Dining                   0.0   1.0\n",
      "Onboard Dining Service            \n",
      "1.0                     1598  1735\n",
      "2.0                     4322  4060\n",
      "3.0                     4209  4287\n",
      "4.0                     4986  4991\n",
      "5.0                     4614  4644\n",
      "_________________________________\n",
      "blastoise ,  deluxe\n",
      "Dining                  0.0  1.0\n",
      "Onboard Dining Service          \n",
      "1.0                     259  272\n",
      "2.0                     330  334\n",
      "3.0                     378  347\n",
      "4.0                     438  386\n",
      "5.0                     348  344\n",
      "_________________________________\n"
     ]
    }
   ],
   "source": [
    "cruise_names = ['missing name', 'lapras', 'blastoise']\n",
    "tix_type = ['standard', 'luxury', 'deluxe']\n",
    "\n",
    "for i in range(1,3): #cruise names 0,1,2 for missing, lapras, blastoise\n",
    "    for j in range(1,4): #ticket type 1,2,3 for standard, luxury, deluxe\n",
    "        df_cruise = df[df['Cruise Name'] == i]\n",
    "        df_tixcruise = df_cruise[df_cruise['Ticket Type']==j]\n",
    "        m = df_tixcruise.pivot_table(index='Onboard Dining Service', columns='Dining', aggfunc='size', fill_value=0)\n",
    "        print(cruise_names[i], \", \", tix_type[j-1])\n",
    "        print(m)\n",
    "        print(\"_________________________________\")"
   ]
  },
  {
   "cell_type": "markdown",
   "id": "14f35b5c",
   "metadata": {},
   "source": [
    "#### There is also generally an equal proportion of passengers who are satisfied/unsatisfied with wifi across perceptions of its importance, for all cruise types and ticket types.\n",
    "\n",
    "#### Interestingly, there are missing ratings for wifi for all standard and deluxe tickets across all cruise types (even after accounting for missing cruise types)"
   ]
  },
  {
   "cell_type": "code",
   "execution_count": 28,
   "id": "000c641f",
   "metadata": {
    "scrolled": true
   },
   "outputs": [
    {
     "name": "stdout",
     "output_type": "stream",
     "text": [
      "missing name ,  standard\n",
      "Empty DataFrame\n",
      "Columns: []\n",
      "Index: []\n",
      "_________________________________\n",
      "missing name ,  luxury\n",
      "WiFi                  0.0  1.0\n",
      "Onboard Wifi Service          \n",
      "1.0                   520  585\n",
      "2.0                   707  728\n",
      "3.0                   683  601\n",
      "4.0                   567  589\n",
      "5.0                   461  472\n",
      "_________________________________\n",
      "missing name ,  deluxe\n",
      "Empty DataFrame\n",
      "Columns: []\n",
      "Index: []\n",
      "_________________________________\n",
      "lapras ,  standard\n",
      "Empty DataFrame\n",
      "Columns: []\n",
      "Index: []\n",
      "_________________________________\n",
      "lapras ,  luxury\n",
      "WiFi                  0.0  1.0\n",
      "Onboard Wifi Service          \n",
      "1.0                   453  474\n",
      "2.0                   603  582\n",
      "3.0                   592  621\n",
      "4.0                   518  454\n",
      "5.0                   289  277\n",
      "_________________________________\n",
      "lapras ,  deluxe\n",
      "Empty DataFrame\n",
      "Columns: []\n",
      "Index: []\n",
      "_________________________________\n",
      "blastoise ,  standard\n",
      "Empty DataFrame\n",
      "Columns: []\n",
      "Index: []\n",
      "_________________________________\n",
      "blastoise ,  luxury\n",
      "WiFi                   0.0   1.0\n",
      "Onboard Wifi Service            \n",
      "1.0                   3584  3656\n",
      "2.0                   4322  4358\n",
      "3.0                   4318  4294\n",
      "4.0                   3871  3729\n",
      "5.0                   2868  3045\n",
      "_________________________________\n",
      "blastoise ,  deluxe\n",
      "Empty DataFrame\n",
      "Columns: []\n",
      "Index: []\n",
      "_________________________________\n"
     ]
    }
   ],
   "source": [
    "tix_type = ['standard', 'luxury', 'deluxe']\n",
    "\n",
    "for i in range(3): #cruise names 0,1,2 for missing, lapras, blastoise\n",
    "    for j in range(1,4): #ticket type 1,2,3 for standard, luxury, deluxe\n",
    "        df_cruise = df[df['Cruise Name'] == i]\n",
    "        df_tixcruise = df_cruise[df_cruise['Ticket Type']==j]\n",
    "        m = df_tixcruise.pivot_table(index='Onboard Wifi Service', columns='WiFi', aggfunc='size', fill_value=0)\n",
    "        print(cruise_names[i], \", \", tix_type[j-1])\n",
    "        print(m)\n",
    "        print(\"_________________________________\")"
   ]
  },
  {
   "cell_type": "markdown",
   "id": "4ca7ffd3",
   "metadata": {},
   "source": [
    "#### There is also generally an equal proportion of passengers who are satisfied/unsatisfied with entertainment across perceptions of its importance, for all cruise types and ticket types.\n",
    "\n",
    "#### Interestingly, there are missing ratings for wifi for all standard tickets across all cruise types (even after accounting for missing cruise types)"
   ]
  },
  {
   "cell_type": "code",
   "execution_count": 29,
   "id": "bb697c94",
   "metadata": {
    "scrolled": true
   },
   "outputs": [
    {
     "name": "stdout",
     "output_type": "stream",
     "text": [
      "missing cruise name ,  standard\n",
      "Empty DataFrame\n",
      "Columns: []\n",
      "Index: []\n",
      "_________________________________\n",
      "missing cruise name ,  luxury\n",
      "Entertainment           0.0  1.0\n",
      "Onboard Entertainment           \n",
      "1.0                     210  245\n",
      "2.0                     414  400\n",
      "3.0                     464  501\n",
      "4.0                    1093  995\n",
      "5.0                     867  902\n",
      "_________________________________\n",
      "missing cruise name ,  deluxe\n",
      "Entertainment          0.0  1.0\n",
      "Onboard Entertainment          \n",
      "1.0                     58   72\n",
      "2.0                     78  102\n",
      "3.0                    111   87\n",
      "4.0                     99  112\n",
      "5.0                     94  101\n",
      "_________________________________\n",
      "lapras ,  standard\n",
      "Empty DataFrame\n",
      "Columns: []\n",
      "Index: []\n",
      "_________________________________\n",
      "lapras ,  luxury\n",
      "Entertainment          0.0  1.0\n",
      "Onboard Entertainment          \n",
      "1.0                    270  329\n",
      "2.0                    378  412\n",
      "3.0                    445  407\n",
      "4.0                    752  793\n",
      "5.0                    664  640\n",
      "_________________________________\n",
      "lapras ,  deluxe\n",
      "Entertainment          0.0  1.0\n",
      "Onboard Entertainment          \n",
      "1.0                    289  282\n",
      "2.0                    370  307\n",
      "3.0                    362  300\n",
      "4.0                    331  370\n",
      "5.0                    334  322\n",
      "_________________________________\n",
      "blastoise ,  standard\n",
      "Empty DataFrame\n",
      "Columns: []\n",
      "Index: []\n",
      "_________________________________\n",
      "blastoise ,  luxury\n",
      "Entertainment           0.0   1.0\n",
      "Onboard Entertainment            \n",
      "1.0                    1398  1432\n",
      "2.0                    2488  2569\n",
      "3.0                    3030  3079\n",
      "4.0                    6865  7047\n",
      "5.0                    5824  5813\n",
      "_________________________________\n",
      "blastoise ,  deluxe\n",
      "Entertainment          0.0  1.0\n",
      "Onboard Entertainment          \n",
      "1.0                    208  249\n",
      "2.0                    361  347\n",
      "3.0                    355  378\n",
      "4.0                    414  462\n",
      "5.0                    321  356\n",
      "_________________________________\n"
     ]
    }
   ],
   "source": [
    "cruise_names = ['missing cruise name', 'lapras', 'blastoise']\n",
    "tix_type = ['standard', 'luxury', 'deluxe']\n",
    "\n",
    "for i in range(3): #cruise names 0,1,2 for missing, lapras, blastoise\n",
    "    for j in range(1,4): #ticket type 1,2,3 for standard, luxury, deluxe\n",
    "        df_cruise = df[df['Cruise Name'] == i]\n",
    "        df_tixcruise = df_cruise[df_cruise['Ticket Type']==j]\n",
    "        m = df_tixcruise.pivot_table(index='Onboard Entertainment', columns='Entertainment', aggfunc='size', fill_value=0)\n",
    "        print(cruise_names[i], \", \", tix_type[j-1])\n",
    "        print(m)\n",
    "        print(\"_________________________________\")"
   ]
  },
  {
   "cell_type": "markdown",
   "id": "60f032b3",
   "metadata": {},
   "source": [
    "#### Check columns that are temporal ie, \"Date of Birth\" and \"Logging\""
   ]
  },
  {
   "cell_type": "code",
   "execution_count": 30,
   "id": "db34e4c3",
   "metadata": {},
   "outputs": [
    {
     "data": {
      "text/html": [
       "<div>\n",
       "<style scoped>\n",
       "    .dataframe tbody tr th:only-of-type {\n",
       "        vertical-align: middle;\n",
       "    }\n",
       "\n",
       "    .dataframe tbody tr th {\n",
       "        vertical-align: top;\n",
       "    }\n",
       "\n",
       "    .dataframe thead th {\n",
       "        text-align: right;\n",
       "    }\n",
       "</style>\n",
       "<table border=\"1\" class=\"dataframe\">\n",
       "  <thead>\n",
       "    <tr style=\"text-align: right;\">\n",
       "      <th></th>\n",
       "      <th>Date of Birth</th>\n",
       "      <th>Logging</th>\n",
       "    </tr>\n",
       "  </thead>\n",
       "  <tbody>\n",
       "    <tr>\n",
       "      <th>0</th>\n",
       "      <td>05/10/1973</td>\n",
       "      <td>01/01/2023 0:00</td>\n",
       "    </tr>\n",
       "    <tr>\n",
       "      <th>1</th>\n",
       "      <td>None</td>\n",
       "      <td>01/01/2023 0:01</td>\n",
       "    </tr>\n",
       "    <tr>\n",
       "      <th>2</th>\n",
       "      <td>22/07/1998</td>\n",
       "      <td>01/01/2023 0:02</td>\n",
       "    </tr>\n",
       "    <tr>\n",
       "      <th>3</th>\n",
       "      <td>01/05/1970</td>\n",
       "      <td>01/01/2023 0:05</td>\n",
       "    </tr>\n",
       "    <tr>\n",
       "      <th>4</th>\n",
       "      <td>07/01/1960</td>\n",
       "      <td>01/01/2023 0:06</td>\n",
       "    </tr>\n",
       "    <tr>\n",
       "      <th>...</th>\n",
       "      <td>...</td>\n",
       "      <td>...</td>\n",
       "    </tr>\n",
       "    <tr>\n",
       "      <th>141533</th>\n",
       "      <td>None</td>\n",
       "      <td>31/08/2023 23:43</td>\n",
       "    </tr>\n",
       "    <tr>\n",
       "      <th>141534</th>\n",
       "      <td>None</td>\n",
       "      <td>31/08/2023 23:43</td>\n",
       "    </tr>\n",
       "    <tr>\n",
       "      <th>141535</th>\n",
       "      <td>14/09/1988</td>\n",
       "      <td>31/08/2023 23:38</td>\n",
       "    </tr>\n",
       "    <tr>\n",
       "      <th>141536</th>\n",
       "      <td>23/10/2012</td>\n",
       "      <td>31/08/2023 23:41</td>\n",
       "    </tr>\n",
       "    <tr>\n",
       "      <th>141537</th>\n",
       "      <td>07/09/1996</td>\n",
       "      <td>31/08/2023 23:44</td>\n",
       "    </tr>\n",
       "  </tbody>\n",
       "</table>\n",
       "<p>141538 rows × 2 columns</p>\n",
       "</div>"
      ],
      "text/plain": [
       "       Date of Birth           Logging\n",
       "0         05/10/1973   01/01/2023 0:00\n",
       "1               None   01/01/2023 0:01\n",
       "2         22/07/1998   01/01/2023 0:02\n",
       "3         01/05/1970   01/01/2023 0:05\n",
       "4         07/01/1960   01/01/2023 0:06\n",
       "...              ...               ...\n",
       "141533          None  31/08/2023 23:43\n",
       "141534          None  31/08/2023 23:43\n",
       "141535    14/09/1988  31/08/2023 23:38\n",
       "141536    23/10/2012  31/08/2023 23:41\n",
       "141537    07/09/1996  31/08/2023 23:44\n",
       "\n",
       "[141538 rows x 2 columns]"
      ]
     },
     "execution_count": 30,
     "metadata": {},
     "output_type": "execute_result"
    }
   ],
   "source": [
    "df[['Date of Birth', 'Logging']]"
   ]
  },
  {
   "cell_type": "markdown",
   "id": "9e6a96c0",
   "metadata": {},
   "source": [
    "#### Since \"Logging\" just shows when a passenger's information was logged, it is safe to ignore this piece of information. Convert the information on DOB to age (in years) of the passenger."
   ]
  },
  {
   "cell_type": "code",
   "execution_count": 31,
   "id": "5ed54a3f",
   "metadata": {},
   "outputs": [],
   "source": [
    "from datetime import datetime\n",
    "\n",
    "current_year = datetime.now().year\n",
    "\n",
    "df['Date of Birth'] = pd.to_datetime(df['Date of Birth'], dayfirst=True)\n",
    "df['Date of Birth'] = current_year - df['Date of Birth'].dt.year\n",
    "df.rename(columns={'Date of Birth': 'Age'}, inplace=True)"
   ]
  },
  {
   "cell_type": "markdown",
   "id": "534e92ef",
   "metadata": {},
   "source": [
    "#### Examine the age entries, to check for anomalies. ~3% of the entries indicate that the passenger is over 122 years old (the oldest human who ever lived survived till 122 years old, anyone older than that likely doesnt exist, so these are erroneous entries). \n",
    "\n",
    "\n",
    "Replace these entries as well as missing values in this column with the mean of the subset of entries in this column that are <122 (effectively, this is equivalent to removing entries that are >122)."
   ]
  },
  {
   "cell_type": "code",
   "execution_count": 32,
   "id": "806ce5d9",
   "metadata": {},
   "outputs": [
    {
     "data": {
      "image/png": "[encoded data removed]",
      "text/plain": [
       "<Figure size 800x400 with 1 Axes>"
      ]
     },
     "metadata": {},
     "output_type": "display_data"
    },
    {
     "name": "stdout",
     "output_type": "stream",
     "text": [
      "proportion of people older than 122:  0.035679464172165776\n"
     ]
    }
   ],
   "source": [
    "plt.figure(figsize=(8, 4)) \n",
    "df['Age'].hist(bins=30)\n",
    "\n",
    "plt.title('Age')\n",
    "plt.show()\n",
    "\n",
    "\n",
    "print(\"proportion of people older than 122: \",(df['Age'] > 122).sum()/len(df))"
   ]
  },
  {
   "cell_type": "markdown",
   "id": "f2db6e8d",
   "metadata": {},
   "source": [
    "#### Discounting people whose indicated age is >122, there does not seem to have any abnormalities in the age distribution. "
   ]
  },
  {
   "cell_type": "code",
   "execution_count": 33,
   "id": "224c0d3e",
   "metadata": {
    "scrolled": false
   },
   "outputs": [
    {
     "data": {
      "image/png": "[encoded data removed]",
      "text/plain": [
       "<Figure size 800x400 with 1 Axes>"
      ]
     },
     "metadata": {},
     "output_type": "display_data"
    }
   ],
   "source": [
    "df0 = df.loc[df['Age']<122]\n",
    "plt.figure(figsize=(8, 4)) \n",
    "df0['Age'].hist(bins=20)\n",
    "\n",
    "plt.title('Age')\n",
    "plt.show()"
   ]
  },
  {
   "cell_type": "markdown",
   "id": "ba4ae543",
   "metadata": {},
   "source": [
    "#### The male:female ratio is quite even"
   ]
  },
  {
   "cell_type": "code",
   "execution_count": 34,
   "id": "4642248f",
   "metadata": {},
   "outputs": [
    {
     "data": {
      "image/png": "[encoded data removed]",
      "text/plain": [
       "<Figure size 800x400 with 1 Axes>"
      ]
     },
     "metadata": {},
     "output_type": "display_data"
    }
   ],
   "source": [
    "plt.figure(figsize=(8, 4)) \n",
    "df0['Gender'].hist()\n",
    "\n",
    "plt.title('Gender')\n",
    "plt.show()"
   ]
  },
  {
   "cell_type": "markdown",
   "id": "daa8efce",
   "metadata": {},
   "source": [
    "#### Lastly, examine \"Source of Traffic\". A majority of passengers heard or booked cruise tickets directly. Direct marketing methods are working well."
   ]
  },
  {
   "cell_type": "code",
   "execution_count": 35,
   "id": "79bc1ada",
   "metadata": {},
   "outputs": [
    {
     "data": {
      "image/png": "[encoded data removed]",
      "text/plain": [
       "<Figure size 800x400 with 1 Axes>"
      ]
     },
     "metadata": {},
     "output_type": "display_data"
    }
   ],
   "source": [
    "plt.figure(figsize=(8, 4)) \n",
    "df['Source of Traffic'].hist()\n",
    "\n",
    "plt.title('Source of Traffic')\n",
    "plt.show()"
   ]
  },
  {
   "cell_type": "markdown",
   "id": "3f858967",
   "metadata": {},
   "source": [
    "#### One-hot encode \"Gender\" and \"Source of Traffic\". Add a new column for each variable, with \"1\" as an entry wherever there are missing values.\n",
    "\n",
    "#### Note: there are no missing values in \"Source of Traffic\"."
   ]
  },
  {
   "cell_type": "code",
   "execution_count": 36,
   "id": "ae7b923e",
   "metadata": {},
   "outputs": [],
   "source": [
    "# df['gender_missing'] = df['Gender'].isnull().astype(float)\n",
    "\n",
    "\n",
    "df = pd.get_dummies(df, columns=['Gender'], prefix=['gender'], drop_first=True)\n",
    "df = pd.get_dummies(df, columns=['Source of Traffic'], prefix=['traffic'], drop_first=True)\n",
    "\n",
    "df[['traffic_Direct - Email Marketing', 'gender_Male', 'traffic_Indirect - Search Engine', 'traffic_Indirect - Social Media']] = df[['traffic_Direct - Email Marketing', 'gender_Male', 'traffic_Indirect - Search Engine', 'traffic_Indirect - Social Media']].astype(float)\n"
   ]
  },
  {
   "cell_type": "markdown",
   "id": "7485c00e",
   "metadata": {},
   "source": [
    "#### All values in the dataframe are numerical values. We can examine their statistics."
   ]
  },
  {
   "cell_type": "code",
   "execution_count": 37,
   "id": "de6fcd8f",
   "metadata": {},
   "outputs": [
    {
     "data": {
      "text/html": [
       "<div>\n",
       "<style scoped>\n",
       "    .dataframe tbody tr th:only-of-type {\n",
       "        vertical-align: middle;\n",
       "    }\n",
       "\n",
       "    .dataframe tbody tr th {\n",
       "        vertical-align: top;\n",
       "    }\n",
       "\n",
       "    .dataframe thead th {\n",
       "        text-align: right;\n",
       "    }\n",
       "</style>\n",
       "<table border=\"1\" class=\"dataframe\">\n",
       "  <thead>\n",
       "    <tr style=\"text-align: right;\">\n",
       "      <th></th>\n",
       "      <th>Age</th>\n",
       "      <th>Onboard Wifi Service</th>\n",
       "      <th>Embarkation/Disembarkation time convenient</th>\n",
       "      <th>Ease of Online booking</th>\n",
       "      <th>Gate location</th>\n",
       "      <th>Onboard Dining Service</th>\n",
       "      <th>Online Check-in</th>\n",
       "      <th>Cabin Comfort</th>\n",
       "      <th>Onboard Entertainment</th>\n",
       "      <th>Cabin service</th>\n",
       "      <th>Baggage handling</th>\n",
       "    </tr>\n",
       "  </thead>\n",
       "  <tbody>\n",
       "    <tr>\n",
       "      <th>count</th>\n",
       "      <td>126056.000000</td>\n",
       "      <td>120910.000000</td>\n",
       "      <td>125005.000000</td>\n",
       "      <td>122047.000000</td>\n",
       "      <td>123400.000000</td>\n",
       "      <td>123793.000000</td>\n",
       "      <td>124909.000000</td>\n",
       "      <td>116917.000000</td>\n",
       "      <td>124693.000000</td>\n",
       "      <td>126950.000000</td>\n",
       "      <td>116869.000000</td>\n",
       "    </tr>\n",
       "    <tr>\n",
       "      <th>mean</th>\n",
       "      <td>44.785603</td>\n",
       "      <td>2.814804</td>\n",
       "      <td>3.055886</td>\n",
       "      <td>2.759642</td>\n",
       "      <td>2.978104</td>\n",
       "      <td>3.205916</td>\n",
       "      <td>3.249790</td>\n",
       "      <td>3.440193</td>\n",
       "      <td>3.358545</td>\n",
       "      <td>3.385238</td>\n",
       "      <td>3.634360</td>\n",
       "    </tr>\n",
       "    <tr>\n",
       "      <th>std</th>\n",
       "      <td>30.812831</td>\n",
       "      <td>1.258693</td>\n",
       "      <td>1.525412</td>\n",
       "      <td>1.400819</td>\n",
       "      <td>1.277604</td>\n",
       "      <td>1.327344</td>\n",
       "      <td>1.351436</td>\n",
       "      <td>1.321744</td>\n",
       "      <td>1.333470</td>\n",
       "      <td>1.286991</td>\n",
       "      <td>1.178282</td>\n",
       "    </tr>\n",
       "    <tr>\n",
       "      <th>min</th>\n",
       "      <td>7.000000</td>\n",
       "      <td>1.000000</td>\n",
       "      <td>0.000000</td>\n",
       "      <td>0.000000</td>\n",
       "      <td>0.000000</td>\n",
       "      <td>1.000000</td>\n",
       "      <td>0.000000</td>\n",
       "      <td>0.000000</td>\n",
       "      <td>1.000000</td>\n",
       "      <td>0.000000</td>\n",
       "      <td>1.000000</td>\n",
       "    </tr>\n",
       "    <tr>\n",
       "      <th>25%</th>\n",
       "      <td>28.000000</td>\n",
       "      <td>2.000000</td>\n",
       "      <td>2.000000</td>\n",
       "      <td>2.000000</td>\n",
       "      <td>2.000000</td>\n",
       "      <td>2.000000</td>\n",
       "      <td>2.000000</td>\n",
       "      <td>2.000000</td>\n",
       "      <td>2.000000</td>\n",
       "      <td>2.000000</td>\n",
       "      <td>3.000000</td>\n",
       "    </tr>\n",
       "    <tr>\n",
       "      <th>50%</th>\n",
       "      <td>41.000000</td>\n",
       "      <td>3.000000</td>\n",
       "      <td>3.000000</td>\n",
       "      <td>3.000000</td>\n",
       "      <td>3.000000</td>\n",
       "      <td>3.000000</td>\n",
       "      <td>3.000000</td>\n",
       "      <td>4.000000</td>\n",
       "      <td>4.000000</td>\n",
       "      <td>4.000000</td>\n",
       "      <td>4.000000</td>\n",
       "    </tr>\n",
       "    <tr>\n",
       "      <th>75%</th>\n",
       "      <td>52.000000</td>\n",
       "      <td>4.000000</td>\n",
       "      <td>4.000000</td>\n",
       "      <td>4.000000</td>\n",
       "      <td>4.000000</td>\n",
       "      <td>4.000000</td>\n",
       "      <td>4.000000</td>\n",
       "      <td>5.000000</td>\n",
       "      <td>4.000000</td>\n",
       "      <td>4.000000</td>\n",
       "      <td>5.000000</td>\n",
       "    </tr>\n",
       "    <tr>\n",
       "      <th>max</th>\n",
       "      <td>223.000000</td>\n",
       "      <td>5.000000</td>\n",
       "      <td>5.000000</td>\n",
       "      <td>5.000000</td>\n",
       "      <td>5.000000</td>\n",
       "      <td>5.000000</td>\n",
       "      <td>5.000000</td>\n",
       "      <td>5.000000</td>\n",
       "      <td>5.000000</td>\n",
       "      <td>5.000000</td>\n",
       "      <td>5.000000</td>\n",
       "    </tr>\n",
       "  </tbody>\n",
       "</table>\n",
       "</div>"
      ],
      "text/plain": [
       "                 Age  Onboard Wifi Service  \\\n",
       "count  126056.000000         120910.000000   \n",
       "mean       44.785603              2.814804   \n",
       "std        30.812831              1.258693   \n",
       "min         7.000000              1.000000   \n",
       "25%        28.000000              2.000000   \n",
       "50%        41.000000              3.000000   \n",
       "75%        52.000000              4.000000   \n",
       "max       223.000000              5.000000   \n",
       "\n",
       "       Embarkation/Disembarkation time convenient  Ease of Online booking  \\\n",
       "count                               125005.000000           122047.000000   \n",
       "mean                                     3.055886                2.759642   \n",
       "std                                      1.525412                1.400819   \n",
       "min                                      0.000000                0.000000   \n",
       "25%                                      2.000000                2.000000   \n",
       "50%                                      3.000000                3.000000   \n",
       "75%                                      4.000000                4.000000   \n",
       "max                                      5.000000                5.000000   \n",
       "\n",
       "       Gate location  Onboard Dining Service  Online Check-in  Cabin Comfort  \\\n",
       "count  123400.000000           123793.000000    124909.000000  116917.000000   \n",
       "mean        2.978104                3.205916         3.249790       3.440193   \n",
       "std         1.277604                1.327344         1.351436       1.321744   \n",
       "min         0.000000                1.000000         0.000000       0.000000   \n",
       "25%         2.000000                2.000000         2.000000       2.000000   \n",
       "50%         3.000000                3.000000         3.000000       4.000000   \n",
       "75%         4.000000                4.000000         4.000000       5.000000   \n",
       "max         5.000000                5.000000         5.000000       5.000000   \n",
       "\n",
       "       Onboard Entertainment  Cabin service  Baggage handling  \n",
       "count          124693.000000  126950.000000     116869.000000  \n",
       "mean                3.358545       3.385238          3.634360  \n",
       "std                 1.333470       1.286991          1.178282  \n",
       "min                 1.000000       0.000000          1.000000  \n",
       "25%                 2.000000       2.000000          3.000000  \n",
       "50%                 4.000000       4.000000          4.000000  \n",
       "75%                 4.000000       4.000000          5.000000  \n",
       "max                 5.000000       5.000000          5.000000  "
      ]
     },
     "execution_count": 37,
     "metadata": {},
     "output_type": "execute_result"
    }
   ],
   "source": [
    "df1 = df.iloc[:, :12]\n",
    "df1.describe()"
   ]
  },
  {
   "cell_type": "code",
   "execution_count": 38,
   "id": "db448177",
   "metadata": {},
   "outputs": [
    {
     "data": {
      "text/html": [
       "<div>\n",
       "<style scoped>\n",
       "    .dataframe tbody tr th:only-of-type {\n",
       "        vertical-align: middle;\n",
       "    }\n",
       "\n",
       "    .dataframe tbody tr th {\n",
       "        vertical-align: top;\n",
       "    }\n",
       "\n",
       "    .dataframe thead th {\n",
       "        text-align: right;\n",
       "    }\n",
       "</style>\n",
       "<table border=\"1\" class=\"dataframe\">\n",
       "  <thead>\n",
       "    <tr style=\"text-align: right;\">\n",
       "      <th></th>\n",
       "      <th>Port Check-in Service</th>\n",
       "      <th>Onboard Service</th>\n",
       "      <th>Cleanliness</th>\n",
       "      <th>Cruise Name</th>\n",
       "      <th>Ticket Type</th>\n",
       "      <th>Cruise Distance</th>\n",
       "      <th>WiFi</th>\n",
       "      <th>Dining</th>\n",
       "      <th>Entertainment</th>\n",
       "      <th>gender_Male</th>\n",
       "      <th>traffic_Direct - Email Marketing</th>\n",
       "      <th>traffic_Indirect - Search Engine</th>\n",
       "      <th>traffic_Indirect - Social Media</th>\n",
       "    </tr>\n",
       "  </thead>\n",
       "  <tbody>\n",
       "    <tr>\n",
       "      <th>count</th>\n",
       "      <td>126389.000000</td>\n",
       "      <td>122059.000000</td>\n",
       "      <td>118824.000000</td>\n",
       "      <td>141538.000000</td>\n",
       "      <td>120282.000000</td>\n",
       "      <td>126234.000000</td>\n",
       "      <td>67758.000000</td>\n",
       "      <td>141538.000000</td>\n",
       "      <td>77969.000000</td>\n",
       "      <td>141538.000000</td>\n",
       "      <td>141538.000000</td>\n",
       "      <td>141538.000000</td>\n",
       "      <td>141538.000000</td>\n",
       "    </tr>\n",
       "    <tr>\n",
       "      <th>mean</th>\n",
       "      <td>3.311048</td>\n",
       "      <td>3.642845</td>\n",
       "      <td>3.285658</td>\n",
       "      <td>1.464024</td>\n",
       "      <td>1.623501</td>\n",
       "      <td>1078.360644</td>\n",
       "      <td>0.500561</td>\n",
       "      <td>0.499187</td>\n",
       "      <td>0.504098</td>\n",
       "      <td>0.443754</td>\n",
       "      <td>0.408971</td>\n",
       "      <td>0.092032</td>\n",
       "      <td>0.091509</td>\n",
       "    </tr>\n",
       "    <tr>\n",
       "      <th>std</th>\n",
       "      <td>1.266061</td>\n",
       "      <td>1.176825</td>\n",
       "      <td>1.313191</td>\n",
       "      <td>0.698232</td>\n",
       "      <td>0.616139</td>\n",
       "      <td>1280.928100</td>\n",
       "      <td>0.500003</td>\n",
       "      <td>0.500001</td>\n",
       "      <td>0.499986</td>\n",
       "      <td>0.496828</td>\n",
       "      <td>0.491646</td>\n",
       "      <td>0.289072</td>\n",
       "      <td>0.288333</td>\n",
       "    </tr>\n",
       "    <tr>\n",
       "      <th>min</th>\n",
       "      <td>1.000000</td>\n",
       "      <td>0.000000</td>\n",
       "      <td>0.000000</td>\n",
       "      <td>0.000000</td>\n",
       "      <td>1.000000</td>\n",
       "      <td>-6416.438580</td>\n",
       "      <td>0.000000</td>\n",
       "      <td>0.000000</td>\n",
       "      <td>0.000000</td>\n",
       "      <td>0.000000</td>\n",
       "      <td>0.000000</td>\n",
       "      <td>0.000000</td>\n",
       "      <td>0.000000</td>\n",
       "    </tr>\n",
       "    <tr>\n",
       "      <th>25%</th>\n",
       "      <td>3.000000</td>\n",
       "      <td>3.000000</td>\n",
       "      <td>2.000000</td>\n",
       "      <td>1.000000</td>\n",
       "      <td>1.000000</td>\n",
       "      <td>363.000000</td>\n",
       "      <td>0.000000</td>\n",
       "      <td>0.000000</td>\n",
       "      <td>0.000000</td>\n",
       "      <td>0.000000</td>\n",
       "      <td>0.000000</td>\n",
       "      <td>0.000000</td>\n",
       "      <td>0.000000</td>\n",
       "    </tr>\n",
       "    <tr>\n",
       "      <th>50%</th>\n",
       "      <td>3.000000</td>\n",
       "      <td>4.000000</td>\n",
       "      <td>3.000000</td>\n",
       "      <td>2.000000</td>\n",
       "      <td>2.000000</td>\n",
       "      <td>788.000000</td>\n",
       "      <td>1.000000</td>\n",
       "      <td>0.000000</td>\n",
       "      <td>1.000000</td>\n",
       "      <td>0.000000</td>\n",
       "      <td>0.000000</td>\n",
       "      <td>0.000000</td>\n",
       "      <td>0.000000</td>\n",
       "    </tr>\n",
       "    <tr>\n",
       "      <th>75%</th>\n",
       "      <td>4.000000</td>\n",
       "      <td>5.000000</td>\n",
       "      <td>4.000000</td>\n",
       "      <td>2.000000</td>\n",
       "      <td>2.000000</td>\n",
       "      <td>1721.000000</td>\n",
       "      <td>1.000000</td>\n",
       "      <td>1.000000</td>\n",
       "      <td>1.000000</td>\n",
       "      <td>1.000000</td>\n",
       "      <td>1.000000</td>\n",
       "      <td>0.000000</td>\n",
       "      <td>0.000000</td>\n",
       "    </tr>\n",
       "    <tr>\n",
       "      <th>max</th>\n",
       "      <td>5.000000</td>\n",
       "      <td>5.000000</td>\n",
       "      <td>5.000000</td>\n",
       "      <td>2.000000</td>\n",
       "      <td>3.000000</td>\n",
       "      <td>7987.154420</td>\n",
       "      <td>1.000000</td>\n",
       "      <td>1.000000</td>\n",
       "      <td>1.000000</td>\n",
       "      <td>1.000000</td>\n",
       "      <td>1.000000</td>\n",
       "      <td>1.000000</td>\n",
       "      <td>1.000000</td>\n",
       "    </tr>\n",
       "  </tbody>\n",
       "</table>\n",
       "</div>"
      ],
      "text/plain": [
       "       Port Check-in Service  Onboard Service    Cleanliness    Cruise Name  \\\n",
       "count          126389.000000    122059.000000  118824.000000  141538.000000   \n",
       "mean                3.311048         3.642845       3.285658       1.464024   \n",
       "std                 1.266061         1.176825       1.313191       0.698232   \n",
       "min                 1.000000         0.000000       0.000000       0.000000   \n",
       "25%                 3.000000         3.000000       2.000000       1.000000   \n",
       "50%                 3.000000         4.000000       3.000000       2.000000   \n",
       "75%                 4.000000         5.000000       4.000000       2.000000   \n",
       "max                 5.000000         5.000000       5.000000       2.000000   \n",
       "\n",
       "         Ticket Type  Cruise Distance          WiFi         Dining  \\\n",
       "count  120282.000000    126234.000000  67758.000000  141538.000000   \n",
       "mean        1.623501      1078.360644      0.500561       0.499187   \n",
       "std         0.616139      1280.928100      0.500003       0.500001   \n",
       "min         1.000000     -6416.438580      0.000000       0.000000   \n",
       "25%         1.000000       363.000000      0.000000       0.000000   \n",
       "50%         2.000000       788.000000      1.000000       0.000000   \n",
       "75%         2.000000      1721.000000      1.000000       1.000000   \n",
       "max         3.000000      7987.154420      1.000000       1.000000   \n",
       "\n",
       "       Entertainment    gender_Male  traffic_Direct - Email Marketing  \\\n",
       "count   77969.000000  141538.000000                     141538.000000   \n",
       "mean        0.504098       0.443754                          0.408971   \n",
       "std         0.499986       0.496828                          0.491646   \n",
       "min         0.000000       0.000000                          0.000000   \n",
       "25%         0.000000       0.000000                          0.000000   \n",
       "50%         1.000000       0.000000                          0.000000   \n",
       "75%         1.000000       1.000000                          1.000000   \n",
       "max         1.000000       1.000000                          1.000000   \n",
       "\n",
       "       traffic_Indirect - Search Engine  traffic_Indirect - Social Media  \n",
       "count                     141538.000000                    141538.000000  \n",
       "mean                           0.092032                         0.091509  \n",
       "std                            0.289072                         0.288333  \n",
       "min                            0.000000                         0.000000  \n",
       "25%                            0.000000                         0.000000  \n",
       "50%                            0.000000                         0.000000  \n",
       "75%                            0.000000                         0.000000  \n",
       "max                            1.000000                         1.000000  "
      ]
     },
     "execution_count": 38,
     "metadata": {},
     "output_type": "execute_result"
    }
   ],
   "source": [
    "df2 = df.iloc[:, 12:]\n",
    "df2.describe()"
   ]
  },
  {
   "cell_type": "markdown",
   "id": "c3d1987b",
   "metadata": {},
   "source": [
    "#### Observations\n",
    "- The max age is 223 years. As mentioned, ignore entries with age>122 and replace such entries and missing values with the mean age.\n",
    "- There are negative cruise distances. Count them and if there aren't too many, replace them with the average cruise distance accroding to cruise types.\n",
    "- For features with entries that are values on the scale of 1-5 (those in the pre-trip survey), the mean value is around 3, other than \"Onboard Service\" with the mean closer to a score of 4. Since these features have discrete values as entries, fill in missing values in each column with their respective median instead, since it is an integer. It is also a better representation of the score as there are more than 1 of these with median=4, indicating that these distributions are slightly skewed. \n",
    "- Those with median 4 are: cabin comfort, onboard entertainment, cabin service, baggage handling, and onboard service. Based on the analysis performed above, passengers who rated these factors as important are generally more likely to purchase luxury tickets."
   ]
  },
  {
   "cell_type": "markdown",
   "id": "72846a92",
   "metadata": {},
   "source": [
    "#### We can examine the proportion of missing values filtered by \"Cruise Name\". Since there are relatively low and similar proportions of missing values per category, we do not have to exclude any category from the analysis as we can conclude that the data is relatively complete and there are no major issues with data quality.\n",
    "\n",
    "#### Thus we can impute missing data based on the most popular ticket filtered by cruise type. This also preserves the sample size as compared to dropping missing values."
   ]
  },
  {
   "cell_type": "markdown",
   "id": "08556eb8",
   "metadata": {},
   "source": [
    "## Summary\n",
    "\n",
    "#### 1. Blastoise cruise travels for longer distances, and thus is exepcted to be a longer duration cruise compared to Lapras. In general, people who rate ease of online booking, embarkation/disembarkation time, cabin service, cabin comfort and online check-in with a higher importance tend to go for the Blastoise cruise.\n",
    "\n",
    "#### 2. The preferences of passengers shift toward luxury tickets as the level of importance of gate location, baggage handling, onboard service as well as the factors mentioned in point 1 (except for embarkation/disembarkation time) rises. For embarkation/disembarkation time, the preference shifts toward deluxe tickets instead.\n",
    "\n",
    "#### 3. There are equal proportions of people who are satisfied and dissatisfied with wifi, dining and entertainment across various perceived levels of importance of these services, cruise types and ticket types.\n",
    "\n",
    "#### 4. The proportion of male to female passengers are quite equal.\n",
    "\n",
    "#### 5. Most passengers book tickets or heard about the company from direct marketing means, via either the company website or through emails. "
   ]
  },
  {
   "cell_type": "code",
   "execution_count": null,
   "id": "4b89483e",
   "metadata": {},
   "outputs": [],
   "source": []
  },
  {
   "cell_type": "code",
   "execution_count": null,
   "id": "3f21efe9",
   "metadata": {},
   "outputs": [],
   "source": []
  }
 ],
 "metadata": {
  "kernelspec": {
   "display_name": "Python 3 (ipykernel)",
   "language": "python",
   "name": "python3"
  },
  "language_info": {
   "codemirror_mode": {
    "name": "ipython",
    "version": 3
   },
   "file_extension": ".py",
   "mimetype": "text/x-python",
   "name": "python",
   "nbconvert_exporter": "python",
   "pygments_lexer": "ipython3",
   "version": "3.10.6"
  }
 },
 "nbformat": 4,
 "nbformat_minor": 5
}
